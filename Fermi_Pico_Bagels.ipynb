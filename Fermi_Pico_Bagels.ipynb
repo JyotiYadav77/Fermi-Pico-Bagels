{
 "cells": [
  {
   "cell_type": "code",
   "execution_count": null,
   "metadata": {},
   "outputs": [
    {
     "name": "stdout",
     "output_type": "stream",
     "text": [
      "123\n",
      "Pico\n",
      "456\n",
      "FermiFermi\n",
      "367\n",
      "Pico\n",
      "453\n",
      "Fermi\n",
      "435\n",
      "Pico\n",
      "543\n",
      "Pico\n",
      "345\n",
      "Pico\n",
      "356\n",
      "FermiFermi\n",
      "256\n",
      "FermiFermiFermi\n"
     ]
    }
   ],
   "source": [
    "#Pico: One of the numbers is correct, but it's in the wrong place.\n",
    "#Fermi: One of the numbers is correct AND is in the right place.\n",
    "#Bagel: Nothing is correct.\n",
    "\n",
    "import random \n",
    "def hint(num,secret):\n",
    "    a = \"\"\n",
    "    for i in range(len(secret)):\n",
    "        if num[i] == secret[i]:\n",
    "            a = a + 'Fermi'\n",
    "        elif num[i] in secret:\n",
    "            a = a + 'Pico'\n",
    "            \n",
    "    if len(a) == 0:\n",
    "        a = a + 'Bagels'\n",
    "    return a\n",
    "\n",
    "def secret_number():\n",
    "    var = random.sample(range(9),3)\n",
    "    var1 = ''.join(map(str,var))\n",
    "    return var1\n",
    "secret = secret_number() \n",
    "   \n",
    "while True:\n",
    "    num = input()  \n",
    "    if(len(num) != 3):\n",
    "        print('Invalid Input')\n",
    "        break\n",
    "    print(hint(num,str(secret)))"
   ]
  },
  {
   "cell_type": "code",
   "execution_count": null,
   "metadata": {},
   "outputs": [],
   "source": []
  }
 ],
 "metadata": {
  "kernelspec": {
   "display_name": "Python 3",
   "language": "python",
   "name": "python3"
  },
  "language_info": {
   "codemirror_mode": {
    "name": "ipython",
    "version": 3
   },
   "file_extension": ".py",
   "mimetype": "text/x-python",
   "name": "python",
   "nbconvert_exporter": "python",
   "pygments_lexer": "ipython3",
   "version": "3.8.3"
  }
 },
 "nbformat": 4,
 "nbformat_minor": 4
}
